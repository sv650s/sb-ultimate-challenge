{
 "cells": [
  {
   "cell_type": "markdown",
   "metadata": {},
   "source": [
    "# Part 2 - Experiement and Metrics Design\n",
    "\n",
    "\n",
    "The neighboring cities of Gotham and Metropolis have complementary circadian rhythms: on weekdays, Ultimate Gotham is most active at night, and Ultimate Metropolis is most active during the day. On weekends, there is reasonable activity in both cities.\n",
    "\n",
    "\n",
    "However, a toll bridge, with a two­way toll, between the two cities causes driver partners to tend to be exclusive to each city. The Ultimate managers of city operations for the two cities have proposed an experiment to encourage driver partners to be available in both cities, by reimbursing all toll costs.\n",
    "\n",
    "\n",
    "* What would you choose as the key measure of success of this experiment in encouraging driver partners to serve both cities, and why would you choose this metric?\n",
    "* Describe a practical experiment you would design to compare the effectiveness of the proposed change in relation to the key measure of success. Please provide details on:\n",
    "    * how you will implement the experiment\n",
    "    * what statistical test(s) you will conduct to verify the significance of the observation\n",
    "    * how you would interpret the results and provide recommendations to the city operations team along with any caveats.\n"
   ]
  },
  {
   "cell_type": "markdown",
   "metadata": {},
   "source": [
    "# Key Metric of Success\n",
    "\n",
    "The goal of our experiment is to encourage drive partners to be available in both cities.\n",
    "\n",
    "My assumption for wanting drivers in both cities is ultimately to create a better customer experience. By encouraging drive partners to be available in both cities, we have a bigger pool of drivers available in either location. Especially, since on weekdays Gotham is more active at night and Metropolis is more active during the day, having drivers that can easily move between the two cities should increase our inventory of available cars during busy hours so that wait time for the end user should decrease. \n",
    "\n",
    "Therefore, our key metric for success should be average wait time for a customer to get a ride (ie, time ride arrives at customer location - time customer requests for a ride)\n",
    "\n",
    "* Our null hypothesis is that by offer free toll, there is no impact to driver behavior and they will still stay within their own city and not impacting the average wait time for customer\n",
    "* Our alternative hypothesis is that by offering free toll, this will encourage drivers to cross cities when there is higher demand - ie, weekday day there will be more cars available in Metropolis - therefore reducing average wait time for the customers\n"
   ]
  },
  {
   "cell_type": "markdown",
   "metadata": {},
   "source": [
    "# The Experiment\n",
    "\n",
    "Duration of experiment - say 1 month\n",
    "\n",
    "* Metric - we will define average wait time as time car arrives - time user requests the ride\n",
    "    * We will use data from the previous month as a baseline to compare with our new data\n",
    "    * For every ride, we will collect timestamp for time user requests the ride and the time that the ride arrives at the user's location\n",
    "    * Since on weekends, there is reasonable activities in both locations, we will exclude these rides from our analysis.\n",
    "* After a month's worth of data, we do a single-tailed 2 sample t-test on the data from the previous month (control) and our current month's data\n",
    "    * Note: we will only consider samples from both groups for weekday rides\n",
    "    * H0 = avg wait time (current month) - avg wait time (previous month) == 0\n",
    "    * Ha = avg wait time (current month) - avg wait time (previous month) < 0\n",
    "    * Since this is a single-tailed t-test, our p-value will be 0.025. If p-value for our data is < 0.025, then we reject the null hypothesis and declare our toll experience successful in changing driver availability and driving down average user wait time.\n",
    "* Caveat(s):\n",
    "    * Since we are only considering weekday ride data, this test does not consider effects for weekend behavior. You may want to do analysis on weekend data to make sure that the free tolls does not have a negative impact on weekend rides for users\n",
    "    \n"
   ]
  },
  {
   "cell_type": "code",
   "execution_count": null,
   "metadata": {},
   "outputs": [],
   "source": []
  }
 ],
 "metadata": {
  "kernelspec": {
   "display_name": "Python 3",
   "language": "python",
   "name": "python3"
  },
  "language_info": {
   "codemirror_mode": {
    "name": "ipython",
    "version": 3
   },
   "file_extension": ".py",
   "mimetype": "text/x-python",
   "name": "python",
   "nbconvert_exporter": "python",
   "pygments_lexer": "ipython3",
   "version": "3.8.1"
  }
 },
 "nbformat": 4,
 "nbformat_minor": 4
}
